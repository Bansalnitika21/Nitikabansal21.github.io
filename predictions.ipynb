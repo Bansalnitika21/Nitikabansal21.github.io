{
  "nbformat": 4,
  "nbformat_minor": 0,
  "metadata": {
    "colab": {
      "name": "predictions.ipynb",
      "provenance": [],
      "collapsed_sections": [],
      "include_colab_link": true
    },
    "kernelspec": {
      "name": "python3",
      "display_name": "Python 3"
    }
  },
  "cells": [
    {
      "cell_type": "markdown",
      "metadata": {
        "id": "view-in-github",
        "colab_type": "text"
      },
      "source": [
        "<a href=\"https://colab.research.google.com/github/Bansalnitika21/Nitikabansal21.github.io/blob/devil/predictions.ipynb\" target=\"_parent\"><img src=\"https://colab.research.google.com/assets/colab-badge.svg\" alt=\"Open In Colab\"/></a>"
      ]
    },
    {
      "cell_type": "markdown",
      "metadata": {
        "id": "PWploTqDZE-B",
        "colab_type": "text"
      },
      "source": [
        "# **PREDICTING THE DIFFERENCE BETWEEN AN IMAGE OF ORGANIC OR RECYCLABLE WASTE**"
      ]
    },
    {
      "cell_type": "markdown",
      "metadata": {
        "id": "RmK8iuQ-R4y2",
        "colab_type": "text"
      },
      "source": [
        "### **MOUNTING DRIVE**"
      ]
    },
    {
      "cell_type": "code",
      "metadata": {
        "id": "b8AyOMzqOYIg",
        "colab_type": "code",
        "colab": {
          "base_uri": "https://localhost:8080/",
          "height": 34
        },
        "outputId": "06ca88ba-2e0e-48ea-d61e-c3ab97626c6f"
      },
      "source": [
        "from google.colab import drive\n",
        "drive.mount(\"/content/drive\")"
      ],
      "execution_count": 1,
      "outputs": [
        {
          "output_type": "stream",
          "text": [
            "Drive already mounted at /content/drive; to attempt to forcibly remount, call drive.mount(\"/content/drive\", force_remount=True).\n"
          ],
          "name": "stdout"
        }
      ]
    },
    {
      "cell_type": "markdown",
      "metadata": {
        "id": "T9XTg84GUHDG",
        "colab_type": "text"
      },
      "source": [
        "###**LOCATING IN DRIVE**"
      ]
    },
    {
      "cell_type": "markdown",
      "metadata": {
        "id": "sDGHSXEyUYkm",
        "colab_type": "text"
      },
      "source": [
        "LOCATION IS drive"
      ]
    },
    {
      "cell_type": "code",
      "metadata": {
        "id": "cQfMumEyOa4M",
        "colab_type": "code",
        "colab": {
          "base_uri": "https://localhost:8080/",
          "height": 34
        },
        "outputId": "23b9e929-110c-4679-d920-480ad49618b1"
      },
      "source": [
        "cd drive"
      ],
      "execution_count": 2,
      "outputs": [
        {
          "output_type": "stream",
          "text": [
            "/content/drive\n"
          ],
          "name": "stdout"
        }
      ]
    },
    {
      "cell_type": "markdown",
      "metadata": {
        "id": "yiOFnZA2Ubl0",
        "colab_type": "text"
      },
      "source": [
        "LOCATION IS drive/My Drive"
      ]
    },
    {
      "cell_type": "code",
      "metadata": {
        "id": "HXLqDbjEOc1i",
        "colab_type": "code",
        "colab": {
          "base_uri": "https://localhost:8080/",
          "height": 34
        },
        "outputId": "70572aba-6f7d-4b58-c809-c042a5138877"
      },
      "source": [
        "cd My Drive"
      ],
      "execution_count": 3,
      "outputs": [
        {
          "output_type": "stream",
          "text": [
            "/content/drive/My Drive\n"
          ],
          "name": "stdout"
        }
      ]
    },
    {
      "cell_type": "markdown",
      "metadata": {
        "id": "yIvL4Vm8UhBp",
        "colab_type": "text"
      },
      "source": [
        "LOCATION IS drive/My Drive/Colab Notebooks"
      ]
    },
    {
      "cell_type": "code",
      "metadata": {
        "id": "9i9KRybbOeka",
        "colab_type": "code",
        "colab": {
          "base_uri": "https://localhost:8080/",
          "height": 34
        },
        "outputId": "08e694de-750e-4028-d5a0-b4d7b69c4167"
      },
      "source": [
        "cd Colab Notebooks"
      ],
      "execution_count": 4,
      "outputs": [
        {
          "output_type": "stream",
          "text": [
            "/content/drive/My Drive/Colab Notebooks\n"
          ],
          "name": "stdout"
        }
      ]
    },
    {
      "cell_type": "markdown",
      "metadata": {
        "id": "YrOjtaJ7U1oz",
        "colab_type": "text"
      },
      "source": [
        "LOCATION IS drive/My Drive/Colab Notebooks/waste_classification"
      ]
    },
    {
      "cell_type": "code",
      "metadata": {
        "id": "bIKe2htcOhkv",
        "colab_type": "code",
        "colab": {
          "base_uri": "https://localhost:8080/",
          "height": 34
        },
        "outputId": "3fca239c-6beb-4ca8-e734-ac5a78d99e8d"
      },
      "source": [
        "cd waste_classification"
      ],
      "execution_count": 5,
      "outputs": [
        {
          "output_type": "stream",
          "text": [
            "/content/drive/My Drive/Colab Notebooks/waste_classification\n"
          ],
          "name": "stdout"
        }
      ]
    },
    {
      "cell_type": "markdown",
      "metadata": {
        "id": "PzwpDpFTR_Mv",
        "colab_type": "text"
      },
      "source": [
        "### **DEFINNING My_Dir SO THAT WE CAN ACCESS THE LONG LOCATION IN SHORT**"
      ]
    },
    {
      "cell_type": "code",
      "metadata": {
        "id": "UnJ07TH3Ok7d",
        "colab_type": "code",
        "colab": {}
      },
      "source": [
        "my_dir=\"/content/drive/My Drive/Colab Notebooks/waste_classification\""
      ],
      "execution_count": 6,
      "outputs": []
    },
    {
      "cell_type": "markdown",
      "metadata": {
        "id": "FSJmtseZSaU2",
        "colab_type": "text"
      },
      "source": [
        ""
      ]
    },
    {
      "cell_type": "markdown",
      "metadata": {
        "id": "8mfPVw4pV1GW",
        "colab_type": "text"
      },
      "source": [
        "### **IMPORTING LIBRARIES**"
      ]
    },
    {
      "cell_type": "markdown",
      "metadata": {
        "id": "arsZdExRV7pQ",
        "colab_type": "text"
      },
      "source": [
        "RELOAD\n",
        "\n",
        "MATPLOTLIB\n",
        "\n",
        "FASTAI\n",
        "\n",
        "WARNINGS"
      ]
    },
    {
      "cell_type": "code",
      "metadata": {
        "id": "vu3aodX1PDtI",
        "colab_type": "code",
        "colab": {}
      },
      "source": [
        "%reload_ext autoreload\n",
        "%autoreload 2\n",
        "%matplotlib inline\n",
        "from fastai.vision import *\n",
        "from fastai.metrics import error_rate\n",
        "import warnings\n",
        "warnings.filterwarnings(\"ignore\", category=FutureWarning)"
      ],
      "execution_count": 7,
      "outputs": []
    },
    {
      "cell_type": "markdown",
      "metadata": {
        "id": "P_E91sCWWBBd",
        "colab_type": "text"
      },
      "source": [
        "###**PREDICTION FUNCTION**"
      ]
    },
    {
      "cell_type": "markdown",
      "metadata": {
        "id": "vLrQ0WMQWLhs",
        "colab_type": "text"
      },
      "source": [
        "THIS WILL LOAD THE SAVED MODEL THAT IS .PKL FILE FROM **MY_DIR**"
      ]
    },
    {
      "cell_type": "code",
      "metadata": {
        "id": "tN79MzkRNpaR",
        "colab_type": "code",
        "colab": {
          "base_uri": "https://localhost:8080/",
          "height": 406
        },
        "outputId": "c00471d3-b4df-4a05-b38b-df8dce777462"
      },
      "source": [
        "predictor = load_learner(my_dir)"
      ],
      "execution_count": 8,
      "outputs": [
        {
          "output_type": "stream",
          "text": [
            "/usr/local/lib/python3.6/dist-packages/torch/serialization.py:649: SourceChangeWarning: source code of class 'torch.nn.modules.loss.CrossEntropyLoss' has changed. you can retrieve the original source code by accessing the object's source attribute or set `torch.nn.Module.dump_patches = True` and use the patch tool to revert the changes.\n",
            "  warnings.warn(msg, SourceChangeWarning)\n",
            "/usr/local/lib/python3.6/dist-packages/torch/serialization.py:649: SourceChangeWarning: source code of class 'torch.nn.modules.container.Sequential' has changed. you can retrieve the original source code by accessing the object's source attribute or set `torch.nn.Module.dump_patches = True` and use the patch tool to revert the changes.\n",
            "  warnings.warn(msg, SourceChangeWarning)\n",
            "/usr/local/lib/python3.6/dist-packages/torch/serialization.py:649: SourceChangeWarning: source code of class 'torch.nn.modules.conv.Conv2d' has changed. you can retrieve the original source code by accessing the object's source attribute or set `torch.nn.Module.dump_patches = True` and use the patch tool to revert the changes.\n",
            "  warnings.warn(msg, SourceChangeWarning)\n",
            "/usr/local/lib/python3.6/dist-packages/torch/serialization.py:649: SourceChangeWarning: source code of class 'torch.nn.modules.batchnorm.BatchNorm2d' has changed. you can retrieve the original source code by accessing the object's source attribute or set `torch.nn.Module.dump_patches = True` and use the patch tool to revert the changes.\n",
            "  warnings.warn(msg, SourceChangeWarning)\n",
            "/usr/local/lib/python3.6/dist-packages/torch/serialization.py:649: SourceChangeWarning: source code of class 'torch.nn.modules.activation.ReLU' has changed. you can retrieve the original source code by accessing the object's source attribute or set `torch.nn.Module.dump_patches = True` and use the patch tool to revert the changes.\n",
            "  warnings.warn(msg, SourceChangeWarning)\n",
            "/usr/local/lib/python3.6/dist-packages/torch/serialization.py:649: SourceChangeWarning: source code of class 'torch.nn.modules.pooling.MaxPool2d' has changed. you can retrieve the original source code by accessing the object's source attribute or set `torch.nn.Module.dump_patches = True` and use the patch tool to revert the changes.\n",
            "  warnings.warn(msg, SourceChangeWarning)\n",
            "/usr/local/lib/python3.6/dist-packages/torch/serialization.py:649: SourceChangeWarning: source code of class 'torch.nn.modules.pooling.AdaptiveAvgPool2d' has changed. you can retrieve the original source code by accessing the object's source attribute or set `torch.nn.Module.dump_patches = True` and use the patch tool to revert the changes.\n",
            "  warnings.warn(msg, SourceChangeWarning)\n",
            "/usr/local/lib/python3.6/dist-packages/torch/serialization.py:649: SourceChangeWarning: source code of class 'torch.nn.modules.pooling.AdaptiveMaxPool2d' has changed. you can retrieve the original source code by accessing the object's source attribute or set `torch.nn.Module.dump_patches = True` and use the patch tool to revert the changes.\n",
            "  warnings.warn(msg, SourceChangeWarning)\n",
            "/usr/local/lib/python3.6/dist-packages/torch/serialization.py:649: SourceChangeWarning: source code of class 'torch.nn.modules.batchnorm.BatchNorm1d' has changed. you can retrieve the original source code by accessing the object's source attribute or set `torch.nn.Module.dump_patches = True` and use the patch tool to revert the changes.\n",
            "  warnings.warn(msg, SourceChangeWarning)\n",
            "/usr/local/lib/python3.6/dist-packages/torch/serialization.py:649: SourceChangeWarning: source code of class 'torch.nn.modules.dropout.Dropout' has changed. you can retrieve the original source code by accessing the object's source attribute or set `torch.nn.Module.dump_patches = True` and use the patch tool to revert the changes.\n",
            "  warnings.warn(msg, SourceChangeWarning)\n",
            "/usr/local/lib/python3.6/dist-packages/torch/serialization.py:649: SourceChangeWarning: source code of class 'torch.nn.modules.linear.Linear' has changed. you can retrieve the original source code by accessing the object's source attribute or set `torch.nn.Module.dump_patches = True` and use the patch tool to revert the changes.\n",
            "  warnings.warn(msg, SourceChangeWarning)\n"
          ],
          "name": "stderr"
        }
      ]
    },
    {
      "cell_type": "markdown",
      "metadata": {
        "id": "1hVJW9kTWZpQ",
        "colab_type": "text"
      },
      "source": [
        "DEFINING MY_PREDICTOR"
      ]
    },
    {
      "cell_type": "code",
      "metadata": {
        "id": "ebHn4gJVN15F",
        "colab_type": "code",
        "colab": {}
      },
      "source": [
        "def my_predictor(im):\n",
        "  test_img =open_image(im)\n",
        "  pred_class,pred_idx,outputs=predictor.predict(test_img)\n",
        "  return pred_class"
      ],
      "execution_count": 9,
      "outputs": []
    },
    {
      "cell_type": "markdown",
      "metadata": {
        "id": "mfQVh3EDWiFM",
        "colab_type": "text"
      },
      "source": [
        "YOU CAN REPLACE **R** WITH **O** SO THAT YOU CAN ACCESS ORGANIC AND RECYCLABLE FOLDERS\n",
        "\n",
        "OS.LISTDIR IS USED TO SHOW THAT THERE ARE TWO FOLDER AT LOCATION TEST"
      ]
    },
    {
      "cell_type": "code",
      "metadata": {
        "id": "0VEdjSWYN5iU",
        "colab_type": "code",
        "colab": {
          "base_uri": "https://localhost:8080/",
          "height": 34
        },
        "outputId": "d045e0fb-88d5-42d3-aae9-e1695453ee3d"
      },
      "source": [
        "all_test_images=os.listdir(\"/content/drive/My Drive/Colab Notebooks/waste_classification/dataset/DATASET/TEST/R/\")\n",
        "os.listdir(\"/content/drive/My Drive/Colab Notebooks/waste_classification/dataset/DATASET/TEST/\")"
      ],
      "execution_count": 10,
      "outputs": [
        {
          "output_type": "execute_result",
          "data": {
            "text/plain": [
              "['O', 'R']"
            ]
          },
          "metadata": {
            "tags": []
          },
          "execution_count": 10
        }
      ]
    },
    {
      "cell_type": "markdown",
      "metadata": {
        "id": "uWAvENJrW7Nm",
        "colab_type": "text"
      },
      "source": [
        "YOU CAN CHANGE THE VALUE OF IDX TO 0 TO ACCESS THE ORGANIC **O** FOLDER \n",
        "\n",
        "USIND IDX AS 1 YOU WILL GET ALL THE IMAGES FROM RECYCLABLE **R** FOLDER"
      ]
    },
    {
      "cell_type": "code",
      "metadata": {
        "id": "LfuwJiCRN9OJ",
        "colab_type": "code",
        "colab": {
          "base_uri": "https://localhost:8080/",
          "height": 211
        },
        "outputId": "6f5dbab1-fbed-4354-fff3-61c0bdd3dbbb"
      },
      "source": [
        "idx=1\n",
        "print(my_predictor(\"/content/drive/My Drive/Colab Notebooks/waste_classification/dataset/DATASET/TEST/R/\"+all_test_images[idx]))\n",
        "img = open_image(\"/content/drive/My Drive/Colab Notebooks/waste_classification/dataset/DATASET/TEST/R/\"+all_test_images[idx])\n",
        "img.show()"
      ],
      "execution_count": 12,
      "outputs": [
        {
          "output_type": "stream",
          "text": [
            "R\n"
          ],
          "name": "stdout"
        },
        {
          "output_type": "display_data",
          "data": {
            "image/png": "[encoded data removed]",
            "text/plain": [
              "<Figure size 216x216 with 1 Axes>"
            ]
          },
          "metadata": {
            "tags": [],
            "needs_background": "light"
          }
        }
      ]
    },
    {
      "cell_type": "markdown",
      "metadata": {
        "id": "8ubjNjU5XQxH",
        "colab_type": "text"
      },
      "source": [
        "### **CREATING FOLDER AND STORING IMAGES**"
      ]
    },
    {
      "cell_type": "markdown",
      "metadata": {
        "id": "8SRd9f0OXVF6",
        "colab_type": "text"
      },
      "source": [
        "YOU CAN REPLACE **R** WITH **O**"
      ]
    },
    {
      "cell_type": "code",
      "metadata": {
        "id": "ubTz8S0MOCBA",
        "colab_type": "code",
        "colab": {
          "base_uri": "https://localhost:8080/",
          "height": 70
        },
        "outputId": "e17a5719-2b99-4688-8413-7ea1eb4b35c5"
      },
      "source": [
        "import cv2\n",
        "test_files=os.listdir(\"/content/drive/My Drive/Colab Notebooks/waste_classification/dataset/DATASET/TEST/R/\")\n",
        "os.makedirs(\"test_result\",exist_ok=True)\n",
        "i=0\n",
        "for test_file in test_files:\n",
        "  img=cv2.imread(\"/content/drive/My Drive/Colab Notebooks/waste_classification/dataset/DATASET/TEST/R/\"+test_file)\n",
        "  cv2.imwrite(\"temp.jpg\",img)\n",
        "  ans_text=my_predictor(\"temp.jpg\")\n",
        "  font = cv2.FONT_HERSHEY_SIMPLEX \n",
        "  i+=1\n",
        "  org = (0, 50) \n",
        "  fontScale = 2\n",
        "  color = (255, 0, 0) \n",
        "  thickness = 4\n",
        "  img = cv2.putText(img, str(ans_text), org, font,fontScale, color, thickness, cv2.LINE_AA) \n",
        "  cv2.imwrite(\"test_result/\"+str(i)+\".jpg\", img)"
      ],
      "execution_count": 13,
      "outputs": [
        {
          "output_type": "stream",
          "text": [
            "/usr/local/lib/python3.6/dist-packages/torch/nn/functional.py:3000: UserWarning: The default behavior for interpolate/upsample with float scale_factor changed in 1.6.0 to align with other frameworks/libraries, and uses scale_factor directly, instead of relying on the computed output size. If you wish to keep the old behavior, please set recompute_scale_factor=True. See the documentation of nn.Upsample for details. \n",
            "  warnings.warn(\"The default behavior for interpolate/upsample with float scale_factor changed \"\n"
          ],
          "name": "stderr"
        }
      ]
    },
    {
      "cell_type": "markdown",
      "metadata": {
        "id": "6OV9VsvlXmEr",
        "colab_type": "text"
      },
      "source": [
        "THIS CELL WILL CREATE A MY_FINAL_OUTPUTR OR MY_FINAL_OUTPUTO FILE IN WASTE_CLASSIFICATION FOLDER\n",
        "\n",
        "**NOTE**: YOU HAVE TO CHANGE **R** TO **O**"
      ]
    },
    {
      "cell_type": "code",
      "metadata": {
        "id": "rq5ELCY2OFXw",
        "colab_type": "code",
        "colab": {
          "base_uri": "https://localhost:8080/",
          "height": 1000
        },
        "outputId": "026ac5d9-b5ba-47b5-ca4e-02828a700713"
      },
      "source": [
        "%cd \"test_result\"\n",
        "!ffmpeg -framerate 1 -pattern_type glob -i '*.jpg' \\-c:v libx264 -r 1 -pix_fmt yuv422p ../my_final_outputR.mp4\n",
        "%cd .."
      ],
      "execution_count": 14,
      "outputs": [
        {
          "output_type": "stream",
          "text": [
            "/content/drive/My Drive/Colab Notebooks/waste_classification/test_result\n",
            "ffmpeg version 3.4.8-0ubuntu0.2 Copyright (c) 2000-2020 the FFmpeg developers\n",
            "  built with gcc 7 (Ubuntu 7.5.0-3ubuntu1~18.04)\n",
            "  configuration: --prefix=/usr --extra-version=0ubuntu0.2 --toolchain=hardened --libdir=/usr/lib/x86_64-linux-gnu --incdir=/usr/include/x86_64-linux-gnu --enable-gpl --disable-stripping --enable-avresample --enable-avisynth --enable-gnutls --enable-ladspa --enable-libass --enable-libbluray --enable-libbs2b --enable-libcaca --enable-libcdio --enable-libflite --enable-libfontconfig --enable-libfreetype --enable-libfribidi --enable-libgme --enable-libgsm --enable-libmp3lame --enable-libmysofa --enable-libopenjpeg --enable-libopenmpt --enable-libopus --enable-libpulse --enable-librubberband --enable-librsvg --enable-libshine --enable-libsnappy --enable-libsoxr --enable-libspeex --enable-libssh --enable-libtheora --enable-libtwolame --enable-libvorbis --enable-libvpx --enable-libwavpack --enable-libwebp --enable-libx265 --enable-libxml2 --enable-libxvid --enable-libzmq --enable-libzvbi --enable-omx --enable-openal --enable-opengl --enable-sdl2 --enable-libdc1394 --enable-libdrm --enable-libiec61883 --enable-chromaprint --enable-frei0r --enable-libopencv --enable-libx264 --enable-shared\n",
            "  libavutil      55. 78.100 / 55. 78.100\n",
            "  libavcodec     57.107.100 / 57.107.100\n",
            "  libavformat    57. 83.100 / 57. 83.100\n",
            "  libavdevice    57. 10.100 / 57. 10.100\n",
            "  libavfilter     6.107.100 /  6.107.100\n",
            "  libavresample   3.  7.  0 /  3.  7.  0\n",
            "  libswscale      4.  8.100 /  4.  8.100\n",
            "  libswresample   2.  9.100 /  2.  9.100\n",
            "  libpostproc    54.  7.100 / 54.  7.100\n",
            "Input #0, image2, from '*.jpg':\n",
            "  Duration: 00:23:21.00, start: 0.000000, bitrate: N/A\n",
            "    Stream #0:0: Video: mjpeg, yuvj420p(pc, bt470bg/unknown/unknown), 266x189 [SAR 1:1 DAR 38:27], 1 fps, 1 tbr, 1 tbn, 1 tbc\n",
            "File '../my_final_outputR.mp4' already exists. Overwrite ? [y/N] Y\n",
            "Stream mapping:\n",
            "  Stream #0:0 -> #0:0 (mjpeg (native) -> h264 (libx264))\n",
            "Press [q] to stop, [?] for help\n",
            "\u001b[1;34m[swscaler @ 0x560f7b6e2000] \u001b[0m\u001b[0;33mdeprecated pixel format used, make sure you did set range correctly\n",
            "\u001b[0m\u001b[1;36m[libx264 @ 0x560f7b60de00] \u001b[0musing SAR=1/1\n",
            "\u001b[1;36m[libx264 @ 0x560f7b60de00] \u001b[0musing cpu capabilities: MMX2 SSE2Fast SSSE3 SSE4.2 AVX FMA3 BMI2 AVX2\n",
            "\u001b[1;36m[libx264 @ 0x560f7b60de00] \u001b[0mprofile High 4:2:2, level 1.1, 4:2:2 8-bit\n",
            "\u001b[1;36m[libx264 @ 0x560f7b60de00] \u001b[0m264 - core 152 r2854 e9a5903 - H.264/MPEG-4 AVC codec - Copyleft 2003-2017 - http://www.videolan.org/x264.html - options: cabac=1 ref=3 deblock=1:0:0 analyse=0x3:0x113 me=hex subme=7 psy=1 psy_rd=1.00:0.00 mixed_ref=1 me_range=16 chroma_me=1 trellis=1 8x8dct=1 cqm=0 deadzone=21,11 fast_pskip=1 chroma_qp_offset=-2 threads=3 lookahead_threads=1 sliced_threads=0 nr=0 decimate=1 interlaced=0 bluray_compat=0 constrained_intra=0 bframes=3 b_pyramid=2 b_adapt=1 b_bias=0 direct=1 weightb=1 open_gop=0 weightp=2 keyint=250 keyint_min=1 scenecut=40 intra_refresh=0 rc_lookahead=40 rc=crf mbtree=1 crf=23.0 qcomp=0.60 qpmin=0 qpmax=69 qpstep=4 ip_ratio=1.40 aq=1:1.00\n",
            "Output #0, mp4, to '../my_final_outputR.mp4':\n",
            "  Metadata:\n",
            "    encoder         : Lavf57.83.100\n",
            "    Stream #0:0: Video: h264 (libx264) (avc1 / 0x31637661), yuv422p, 266x189 [SAR 1:1 DAR 38:27], q=-1--1, 1 fps, 16384 tbn, 1 tbc\n",
            "    Metadata:\n",
            "      encoder         : Lavc57.107.100 libx264\n",
            "    Side data:\n",
            "      cpb: bitrate max/min/avg: 0/0/0 buffer size: 0 vbv_delay: -1\n",
            "\u001b[1;34m[swscaler @ 0x560f7b6e2000] \u001b[0m\u001b[0;33mdeprecated pixel format used, make sure you did set range correctly\n",
            "    Last message repeated 4 times\n",
            "\u001b[1;34m[swscaler @ 0x560f7c0ac000] \u001b[0m\u001b[0;33mdeprecated pixel format used, make sure you did set range correctly\n",
            "    Last message repeated 2 times\n",
            "\u001b[1;34m[swscaler @ 0x560f7c2a2000] \u001b[0m\u001b[0;33mdeprecated pixel format used, make sure you did set range correctly\n",
            "    Last message repeated 48 times\n",
            "\u001b[1;34m[swscaler @ 0x560f7c2a2000] \u001b[0m\u001b[0;33mdeprecated pixel format used, make sure you did set range correctly\n",
            "    Last message repeated 27 times\n",
            "\u001b[1;34m[swscaler @ 0x560f7c2a2000] \u001b[0m\u001b[0;33mdeprecated pixel format used, make sure you did set range correctly\n",
            "    Last message repeated 33 times\n",
            "\u001b[1;34m[swscaler @ 0x560f7c2a2000] \u001b[0m\u001b[0;33mdeprecated pixel format used, make sure you did set range correctly\n",
            "    Last message repeated 31 times\n",
            "\u001b[1;34m[swscaler @ 0x560f7c2a2000] \u001b[0m\u001b[0;33mdeprecated pixel format used, make sure you did set range correctly\n",
            "    Last message repeated 25 times\n",
            "\u001b[1;34m[swscaler @ 0x560f7c2a2000] \u001b[0m\u001b[0;33mdeprecated pixel format used, make sure you did set range correctly\n",
            "    Last message repeated 26 times\n",
            "\u001b[1;34m[swscaler @ 0x560f7c2a2000] \u001b[0m\u001b[0;33mdeprecated pixel format used, make sure you did set range correctly\n",
            "    Last message repeated 26 times\n",
            "\u001b[1;34m[swscaler @ 0x560f7c2a2000] \u001b[0m\u001b[0;33mdeprecated pixel format used, make sure you did set range correctly\n",
            "    Last message repeated 28 times\n",
            "\u001b[1;34m[swscaler @ 0x560f7c2a2000] \u001b[0m\u001b[0;33mdeprecated pixel format used, make sure you did set range correctly\n",
            "    Last message repeated 27 times\n",
            "\u001b[1;34m[swscaler @ 0x560f7c2a2000] \u001b[0m\u001b[0;33mdeprecated pixel format used, make sure you did set range correctly\n",
            "    Last message repeated 31 times\n",
            "\u001b[1;34m[swscaler @ 0x560f7c2a2000] \u001b[0m\u001b[0;33mdeprecated pixel format used, make sure you did set range correctly\n",
            "    Last message repeated 30 times\n",
            "\u001b[1;34m[swscaler @ 0x560f7c2a2000] \u001b[0m\u001b[0;33mdeprecated pixel format used, make sure you did set range correctly\n",
            "    Last message repeated 26 times\n",
            "\u001b[1;34m[swscaler @ 0x560f7c2a2000] \u001b[0m\u001b[0;33mdeprecated pixel format used, make sure you did set range correctly\n",
            "    Last message repeated 26 times\n",
            "\u001b[1;34m[swscaler @ 0x560f7c2a2000] \u001b[0m\u001b[0;33mdeprecated pixel format used, make sure you did set range correctly\n",
            "    Last message repeated 25 times\n",
            "\u001b[1;34m[swscaler @ 0x560f7c2a2000] \u001b[0m\u001b[0;33mdeprecated pixel format used, make sure you did set range correctly\n",
            "    Last message repeated 34 times\n",
            "\u001b[1;34m[swscaler @ 0x560f7c2a2000] \u001b[0m\u001b[0;33mdeprecated pixel format used, make sure you did set range correctly\n",
            "    Last message repeated 33 times\n",
            "\u001b[1;34m[swscaler @ 0x560f7c2a2000] \u001b[0m\u001b[0;33mdeprecated pixel format used, make sure you did set range correctly\n",
            "    Last message repeated 34 times\n",
            "\u001b[1;34m[swscaler @ 0x560f7c2a2000] \u001b[0m\u001b[0;33mdeprecated pixel format used, make sure you did set range correctly\n",
            "    Last message repeated 36 times\n",
            "\u001b[1;34m[swscaler @ 0x560f7c2a2000] \u001b[0m\u001b[0;33mdeprecated pixel format used, make sure you did set range correctly\n",
            "    Last message repeated 33 times\n",
            "\u001b[1;34m[swscaler @ 0x560f7c2a2000] \u001b[0m\u001b[0;33mdeprecated pixel format used, make sure you did set range correctly\n",
            "    Last message repeated 31 times\n",
            "\u001b[1;34m[swscaler @ 0x560f7c2a2000] \u001b[0m\u001b[0;33mdeprecated pixel format used, make sure you did set range correctly\n",
            "    Last message repeated 30 times\n",
            "\u001b[1;34m[swscaler @ 0x560f7c2a2000] \u001b[0m\u001b[0;33mdeprecated pixel format used, make sure you did set range correctly\n",
            "    Last message repeated 31 times\n",
            "\u001b[1;34m[swscaler @ 0x560f7c2a2000] \u001b[0m\u001b[0;33mdeprecated pixel format used, make sure you did set range correctly\n",
            "    Last message repeated 35 times\n",
            "\u001b[1;34m[swscaler @ 0x560f7c2a2000] \u001b[0m\u001b[0;33mdeprecated pixel format used, make sure you did set range correctly\n",
            "    Last message repeated 35 times\n",
            "\u001b[1;34m[swscaler @ 0x560f7c2a2000] \u001b[0m\u001b[0;33mdeprecated pixel format used, make sure you did set range correctly\n",
            "    Last message repeated 33 times\n",
            "\u001b[1;34m[swscaler @ 0x560f7c2a2000] \u001b[0m\u001b[0;33mdeprecated pixel format used, make sure you did set range correctly\n",
            "    Last message repeated 34 times\n",
            "\u001b[1;34m[swscaler @ 0x560f7c2a2000] \u001b[0m\u001b[0;33mdeprecated pixel format used, make sure you did set range correctly\n",
            "    Last message repeated 31 times\n",
            "\u001b[1;34m[swscaler @ 0x560f7c2a2000] \u001b[0m\u001b[0;33mdeprecated pixel format used, make sure you did set range correctly\n",
            "    Last message repeated 28 times\n",
            "\u001b[1;34m[swscaler @ 0x560f7c2a2000] \u001b[0m\u001b[0;33mdeprecated pixel format used, make sure you did set range correctly\n",
            "    Last message repeated 23 times\n",
            "\u001b[1;34m[swscaler @ 0x560f7c2a2000] \u001b[0m\u001b[0;33mdeprecated pixel format used, make sure you did set range correctly\n",
            "    Last message repeated 26 times\n",
            "\u001b[1;34m[swscaler @ 0x560f7c2a2000] \u001b[0m\u001b[0;33mdeprecated pixel format used, make sure you did set range correctly\n",
            "    Last message repeated 33 times\n",
            "\u001b[1;34m[swscaler @ 0x560f7c2a2000] \u001b[0m\u001b[0;33mdeprecated pixel format used, make sure you did set range correctly\n",
            "    Last message repeated 27 times\n",
            "\u001b[1;34m[swscaler @ 0x560f7c2a2000] \u001b[0m\u001b[0;33mdeprecated pixel format used, make sure you did set range correctly\n",
            "    Last message repeated 33 times\n",
            "\u001b[1;34m[swscaler @ 0x560f7c2a2000] \u001b[0m\u001b[0;33mdeprecated pixel format used, make sure you did set range correctly\n",
            "    Last message repeated 30 times\n",
            "\u001b[1;34m[swscaler @ 0x560f7c2a2000] \u001b[0m\u001b[0;33mdeprecated pixel format used, make sure you did set range correctly\n",
            "    Last message repeated 31 times\n",
            "\u001b[1;34m[swscaler @ 0x560f7c2a2000] \u001b[0m\u001b[0;33mdeprecated pixel format used, make sure you did set range correctly\n",
            "    Last message repeated 17 times\n",
            "\u001b[1;34m[swscaler @ 0x560f7d356000] \u001b[0m\u001b[0;33mdeprecated pixel format used, make sure you did set range correctly\n",
            "    Last message repeated 20 times\n",
            "\u001b[1;34m[swscaler @ 0x560f7d356000] \u001b[0m\u001b[0;33mdeprecated pixel format used, make sure you did set range correctly\n",
            "    Last message repeated 14 times\n",
            "frame= 1401 fps= 74 q=-1.0 Lsize=   16405kB time=00:23:18.00 bitrate=  96.1kbits/s speed=73.6x    \n",
            "video:16398kB audio:0kB subtitle:0kB other streams:0kB global headers:0kB muxing overhead: 0.040479%\n",
            "\u001b[1;36m[libx264 @ 0x560f7b60de00] \u001b[0mframe I:17    Avg QP:13.12  size: 13470\n",
            "\u001b[1;36m[libx264 @ 0x560f7b60de00] \u001b[0mframe P:1383  Avg QP:17.49  size: 11966\n",
            "\u001b[1;36m[libx264 @ 0x560f7b60de00] \u001b[0mframe B:1     Avg QP:15.02  size: 13369\n",
            "\u001b[1;36m[libx264 @ 0x560f7b60de00] \u001b[0mconsecutive B-frames: 99.9%  0.1%  0.0%  0.0%\n",
            "\u001b[1;36m[libx264 @ 0x560f7b60de00] \u001b[0mmb I  I16..4: 20.7% 32.2% 47.1%\n",
            "\u001b[1;36m[libx264 @ 0x560f7b60de00] \u001b[0mmb P  I16..4:  7.0% 39.7% 48.2%  P16..4:  1.9%  1.1%  1.0%  0.0%  0.0%    skip: 1.1%\n",
            "\u001b[1;36m[libx264 @ 0x560f7b60de00] \u001b[0mmb B  I16..4:  5.9% 22.1% 44.6%  B16..8:  5.4%  2.0%  0.0%  direct: 4.9%  skip:15.2%  L0:63.3% L1:36.7% BI: 0.0%\n",
            "\u001b[1;36m[libx264 @ 0x560f7b60de00] \u001b[0m8x8 transform intra:41.7% inter:37.4%\n",
            "\u001b[1;36m[libx264 @ 0x560f7b60de00] \u001b[0mcoded y,uvDC,uvAC intra: 83.1% 80.6% 72.7% inter: 55.1% 64.5% 59.9%\n",
            "\u001b[1;36m[libx264 @ 0x560f7b60de00] \u001b[0mi16 v,h,dc,p: 55% 23% 11% 11%\n",
            "\u001b[1;36m[libx264 @ 0x560f7b60de00] \u001b[0mi8 v,h,dc,ddl,ddr,vr,hd,vl,hu: 31% 20% 15%  4%  5%  5%  6%  6%  8%\n",
            "\u001b[1;36m[libx264 @ 0x560f7b60de00] \u001b[0mi4 v,h,dc,ddl,ddr,vr,hd,vl,hu: 29% 20% 10%  5%  7%  7%  7%  7%  8%\n",
            "\u001b[1;36m[libx264 @ 0x560f7b60de00] \u001b[0mi8c dc,h,v,p: 47% 18% 28%  7%\n",
            "\u001b[1;36m[libx264 @ 0x560f7b60de00] \u001b[0mWeighted P-Frames: Y:25.6% UV:22.2%\n",
            "\u001b[1;36m[libx264 @ 0x560f7b60de00] \u001b[0mref P L0: 23.0% 14.4% 28.2% 27.5%  6.9%\n",
            "\u001b[1;36m[libx264 @ 0x560f7b60de00] \u001b[0mkb/s:95.88\n",
            "/content/drive/My Drive/Colab Notebooks/waste_classification\n"
          ],
          "name": "stdout"
        }
      ]
    },
    {
      "cell_type": "markdown",
      "metadata": {
        "id": "4D6WfcWYX_q5",
        "colab_type": "text"
      },
      "source": [
        "### **FOR COVERTING IMAGES TO VIDEO**"
      ]
    },
    {
      "cell_type": "code",
      "metadata": {
        "id": "rw7xtyGyOJWi",
        "colab_type": "code",
        "colab": {
          "base_uri": "https://localhost:8080/",
          "height": 34
        },
        "outputId": "395ce9af-6daf-4887-a9cc-4ade103df56f"
      },
      "source": [
        "!pip install -U kora\n",
        "from kora.drive import upload_public\n"
      ],
      "execution_count": 15,
      "outputs": [
        {
          "output_type": "stream",
          "text": [
            "Requirement already up-to-date: kora in /usr/local/lib/python3.6/dist-packages (0.4.23)\n"
          ],
          "name": "stdout"
        }
      ]
    },
    {
      "cell_type": "code",
      "metadata": {
        "id": "Kehr2Zv_OMBV",
        "colab_type": "code",
        "colab": {}
      },
      "source": [
        "url = upload_public('my_final_outputR.mp4')"
      ],
      "execution_count": 16,
      "outputs": []
    },
    {
      "cell_type": "markdown",
      "metadata": {
        "id": "KtEVleAIYqyb",
        "colab_type": "text"
      },
      "source": [
        "This cell will display the created video in colab notebook!!"
      ]
    },
    {
      "cell_type": "code",
      "metadata": {
        "id": "HhetfZYxOPw0",
        "colab_type": "code",
        "colab": {
          "base_uri": "https://localhost:8080/",
          "height": 376
        },
        "outputId": "78688d6b-4406-4dc2-b857-a6adec6fb05d"
      },
      "source": [
        "from IPython.display import HTML\n",
        "HTML(f\"\"\"<video src={url} width=500 controls/>\"\"\")"
      ],
      "execution_count": 17,
      "outputs": [
        {
          "output_type": "execute_result",
          "data": {
            "text/html": [
              "<video src=https://drive.google.com/uc?id=1kPAhy3Pa3_NalqHEYnLj6WZOa6baRXdT width=500 controls/>"
            ],
            "text/plain": [
              "<IPython.core.display.HTML object>"
            ]
          },
          "metadata": {
            "tags": []
          },
          "execution_count": 17
        }
      ]
    },
    {
      "cell_type": "markdown",
      "metadata": {
        "id": "aaVGW38dYK8N",
        "colab_type": "text"
      },
      "source": [
        "YOU CAN COPY THIS LINK CREATED AND PASTE ANYWHERE AND THE VIDEO WILL BE VISIBLE AND WORKING!!!!!"
      ]
    },
    {
      "cell_type": "code",
      "metadata": {
        "id": "JOyu_yf4OSlo",
        "colab_type": "code",
        "colab": {
          "base_uri": "https://localhost:8080/",
          "height": 35
        },
        "outputId": "247599bc-a67e-4e66-d1e2-dd2fa2f35a97"
      },
      "source": [
        "url"
      ],
      "execution_count": 18,
      "outputs": [
        {
          "output_type": "execute_result",
          "data": {
            "application/vnd.google.colaboratory.intrinsic+json": {
              "type": "string"
            },
            "text/plain": [
              "'https://drive.google.com/uc?id=1kPAhy3Pa3_NalqHEYnLj6WZOa6baRXdT'"
            ]
          },
          "metadata": {
            "tags": []
          },
          "execution_count": 18
        }
      ]
    }
  ]
}